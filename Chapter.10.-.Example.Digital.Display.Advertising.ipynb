{
 "cells": [
  {
   "cell_type": "markdown",
   "metadata": {},
   "source": [
    "### Initialize and read compressed dataset"
   ]
  },
  {
   "cell_type": "code",
   "execution_count": 1,
   "metadata": {
    "collapsed": true
   },
   "outputs": [],
   "source": [
    "%matplotlib inline\n",
    "import pandas as pd\n",
    "import seaborn as sns\n",
    "import numpy as np\n",
    "import scipy.sparse as sp\n",
    "from scipy.sparse.linalg import svds\n",
    "import matplotlib.pyplot as plt"
   ]
  },
  {
   "cell_type": "markdown",
   "metadata": {},
   "source": [
    "### Read combined raw impressions"
   ]
  },
  {
   "cell_type": "code",
   "execution_count": 18,
   "metadata": {
    "collapsed": false,
    "slideshow": {
     "slide_type": "-"
    }
   },
   "outputs": [],
   "source": [
    "# load data from a compressed archive\n",
    "df = pd.read_pickle('../rawimps/combined.pickle')"
   ]
  },
  {
   "cell_type": "markdown",
   "metadata": {},
   "source": [
    "### Cardinalities of imps, pubs, and users"
   ]
  },
  {
   "cell_type": "code",
   "execution_count": 4,
   "metadata": {
    "collapsed": false
   },
   "outputs": [
    {
     "name": "stdout",
     "output_type": "stream",
     "text": [
      "nImps=9098807\n",
      "nPubs=41576\n",
      "nUsers=3696476\n"
     ]
    }
   ],
   "source": [
    "nImps = len(df)\n",
    "nPubs = len(df.pub_domain.unique())\n",
    "nUsers = len(df.user_id.unique())\n",
    "print('nImps={}\\nnPubs={}\\nnUsers={}'.format(nImps, nPubs, nUsers))"
   ]
  },
  {
   "cell_type": "code",
   "execution_count": 81,
   "metadata": {
    "collapsed": false
   },
   "outputs": [
    {
     "name": "stdout",
     "output_type": "stream",
     "text": [
      "nImps2=10845\n",
      "nPubs2=1888\n",
      "nUsers2=8078\n"
     ]
    }
   ],
   "source": [
    "df2 = df[df.click == True]\n",
    "nImps2 = len(df2)\n",
    "nPubs2 = len(df2.pub_domain.unique())\n",
    "nUsers2 = len(df2.user_id.unique())\n",
    "print('nImps2={}\\nnPubs2={}\\nnUsers2={}'.format(nImps2, nPubs2, nUsers2))"
   ]
  },
  {
   "cell_type": "markdown",
   "metadata": {},
   "source": [
    "### Clicks"
   ]
  },
  {
   "cell_type": "code",
   "execution_count": 70,
   "metadata": {
    "collapsed": false
   },
   "outputs": [
    {
     "name": "stdout",
     "output_type": "stream",
     "text": [
      "nClicks=10845 (0.12%)\n"
     ]
    }
   ],
   "source": [
    "nClicks = df.click.value_counts()[True]\n",
    "print('nClicks={} ({}%)'.format(nClicks, round(float(nClicks) * 100 / nImps, 2)))"
   ]
  },
  {
   "cell_type": "markdown",
   "metadata": {},
   "source": [
    "### Views"
   ]
  },
  {
   "cell_type": "code",
   "execution_count": 75,
   "metadata": {
    "collapsed": false
   },
   "outputs": [
    {
     "name": "stdout",
     "output_type": "stream",
     "text": [
      "nViews=3649597 (40.11%)\n"
     ]
    }
   ],
   "source": [
    "nViews = df.viewed.value_counts()[True]\n",
    "print('nViews={} ({}%)'.format(nViews, round(float(nViews) * 100 / nImps, 2)))"
   ]
  },
  {
   "cell_type": "markdown",
   "metadata": {},
   "source": [
    "### Size of user / item matrix"
   ]
  },
  {
   "cell_type": "code",
   "execution_count": 83,
   "metadata": {
    "collapsed": false
   },
   "outputs": [
    {
     "name": "stdout",
     "output_type": "stream",
     "text": [
      "uim, all imps: 67564392, clicks only: 15251264\n"
     ]
    }
   ],
   "source": [
    "uimsz = (nPubs * nUsers) # all visits\n",
    "uimsz2 = (nPubs2 * nUsers2) # clicks\n",
    "print('uim, all imps: {}, clicks only: {}'. format(uimsz, uimsz2))"
   ]
  },
  {
   "cell_type": "code",
   "execution_count": 78,
   "metadata": {
    "collapsed": false,
    "scrolled": false
   },
   "outputs": [],
   "source": [
    "f = df.groupby('pub_domain').size()"
   ]
  },
  {
   "cell_type": "code",
   "execution_count": 89,
   "metadata": {
    "collapsed": false
   },
   "outputs": [
    {
     "data": {
      "text/plain": [
       "1.0"
      ]
     },
     "execution_count": 89,
     "metadata": {},
     "output_type": "execute_result"
    }
   ],
   "source": [
    "np.log10(10)"
   ]
  },
  {
   "cell_type": "code",
   "execution_count": 90,
   "metadata": {
    "collapsed": false,
    "scrolled": true
   },
   "outputs": [
    {
     "data": {
      "image/png": "[encoded data removed]",
      "text/plain": [
       "<matplotlib.figure.Figure at 0x7f0cf8fafe90>"
      ]
     },
     "metadata": {},
     "output_type": "display_data"
    }
   ],
   "source": [
    "sns.distplot(np.log10(f));"
   ]
  },
  {
   "cell_type": "code",
   "execution_count": 97,
   "metadata": {
    "collapsed": false
   },
   "outputs": [
    {
     "data": {
      "text/plain": [
       "count    3696475.000000\n",
       "mean           2.461481\n",
       "std           13.130454\n",
       "min            1.000000\n",
       "25%            1.000000\n",
       "50%            1.000000\n",
       "75%            1.000000\n",
       "max         4375.000000\n",
       "dtype: float64"
      ]
     },
     "execution_count": 97,
     "metadata": {},
     "output_type": "execute_result"
    }
   ],
   "source": [
    "g.describe()"
   ]
  },
  {
   "cell_type": "code",
   "execution_count": 48,
   "metadata": {
    "collapsed": false,
    "scrolled": false
   },
   "outputs": [
    {
     "data": {
      "text/html": [
       "<div>\n",
       "<table border=\"1\" class=\"dataframe\">\n",
       "  <thead>\n",
       "    <tr style=\"text-align: right;\">\n",
       "      <th></th>\n",
       "      <th>timestamp</th>\n",
       "      <th>click</th>\n",
       "      <th>viewed</th>\n",
       "      <th>v_secs</th>\n",
       "      <th>user_id</th>\n",
       "      <th>operating_system</th>\n",
       "      <th>pub_domain</th>\n",
       "    </tr>\n",
       "  </thead>\n",
       "  <tbody>\n",
       "    <tr>\n",
       "      <th>0</th>\n",
       "      <td>2015-09-28 09:01:35</td>\n",
       "      <td>False</td>\n",
       "      <td>False</td>\n",
       "      <td>0</td>\n",
       "      <td>9b644f47729749cc80ac9a67df399cb0</td>\n",
       "      <td>Windows</td>\n",
       "      <td>D10037853.com</td>\n",
       "    </tr>\n",
       "    <tr>\n",
       "      <th>1</th>\n",
       "      <td>2015-09-21 00:25:42</td>\n",
       "      <td>False</td>\n",
       "      <td>True</td>\n",
       "      <td>3</td>\n",
       "      <td>f5b295de8cf1448c8fde3b4cb1650873</td>\n",
       "      <td>Windows</td>\n",
       "      <td>D10031681.com</td>\n",
       "    </tr>\n",
       "    <tr>\n",
       "      <th>2</th>\n",
       "      <td>2015-09-08 00:08:49</td>\n",
       "      <td>False</td>\n",
       "      <td>False</td>\n",
       "      <td>0</td>\n",
       "      <td>06c757b7637647fb96b2d911303d5ed5</td>\n",
       "      <td>Windows</td>\n",
       "      <td>D10013014.com</td>\n",
       "    </tr>\n",
       "    <tr>\n",
       "      <th>3</th>\n",
       "      <td>2015-09-15 09:37:24</td>\n",
       "      <td>False</td>\n",
       "      <td>False</td>\n",
       "      <td>0</td>\n",
       "      <td>0dfabf89-5da8-459d-a4f7-3dfea37497f5</td>\n",
       "      <td>Windows</td>\n",
       "      <td>D10013014.com</td>\n",
       "    </tr>\n",
       "    <tr>\n",
       "      <th>4</th>\n",
       "      <td>2015-09-25 06:23:47</td>\n",
       "      <td>False</td>\n",
       "      <td>False</td>\n",
       "      <td>0</td>\n",
       "      <td>4171bedc8a99412a980c8521eee86c83</td>\n",
       "      <td>Windows</td>\n",
       "      <td>D10013014.com</td>\n",
       "    </tr>\n",
       "  </tbody>\n",
       "</table>\n",
       "</div>"
      ],
      "text/plain": [
       "             timestamp  click viewed  v_secs  \\\n",
       "0  2015-09-28 09:01:35  False  False       0   \n",
       "1  2015-09-21 00:25:42  False   True       3   \n",
       "2  2015-09-08 00:08:49  False  False       0   \n",
       "3  2015-09-15 09:37:24  False  False       0   \n",
       "4  2015-09-25 06:23:47  False  False       0   \n",
       "\n",
       "                                user_id operating_system     pub_domain  \n",
       "0      9b644f47729749cc80ac9a67df399cb0          Windows  D10037853.com  \n",
       "1      f5b295de8cf1448c8fde3b4cb1650873          Windows  D10031681.com  \n",
       "2      06c757b7637647fb96b2d911303d5ed5          Windows  D10013014.com  \n",
       "3  0dfabf89-5da8-459d-a4f7-3dfea37497f5          Windows  D10013014.com  \n",
       "4      4171bedc8a99412a980c8521eee86c83          Windows  D10013014.com  "
      ]
     },
     "execution_count": 48,
     "metadata": {},
     "output_type": "execute_result"
    }
   ],
   "source": [
    "df.head()"
   ]
  },
  {
   "cell_type": "code",
   "execution_count": 44,
   "metadata": {
    "collapsed": false
   },
   "outputs": [
    {
     "data": {
      "image/png": "[encoded data removed]",
      "text/plain": [
       "<matplotlib.figure.Figure at 0x7f0cf7fc1dd0>"
      ]
     },
     "metadata": {},
     "output_type": "display_data"
    }
   ],
   "source": [
    "_ = plt.hist(df.pub_domain.value_counts(), bins=range(2,100,1))"
   ]
  },
  {
   "cell_type": "code",
   "execution_count": 15,
   "metadata": {
    "collapsed": false,
    "scrolled": true
   },
   "outputs": [
    {
     "data": {
      "image/png": "[encoded data removed]",
      "text/plain": [
       "<matplotlib.figure.Figure at 0x7fda046a6bd0>"
      ]
     },
     "metadata": {},
     "output_type": "display_data"
    }
   ],
   "source": [
    "sns.distplot(np(f));"
   ]
  },
  {
   "cell_type": "markdown",
   "metadata": {},
   "source": [
    "#### substitute integer indices for user and pub symbolic keys"
   ]
  },
  {
   "cell_type": "code",
   "execution_count": 43,
   "metadata": {
    "collapsed": false,
    "scrolled": true
   },
   "outputs": [],
   "source": [
    "df5.set_index(df5.pub_domain, inplace=True)"
   ]
  },
  {
   "cell_type": "code",
   "execution_count": 44,
   "metadata": {
    "collapsed": false,
    "scrolled": true
   },
   "outputs": [],
   "source": [
    "users = df5.user_id.unique()\n",
    "pubs = df5.pub_domain.unique()"
   ]
  },
  {
   "cell_type": "code",
   "execution_count": 45,
   "metadata": {
    "collapsed": false,
    "scrolled": true
   },
   "outputs": [],
   "source": [
    "user_idx, pub_idx = {}, {}\n",
    "for i in range(len(users)):\n",
    "    user_idx[users[i]] = i\n",
    "for i in range(len(pubs)):\n",
    "    pub_idx[pubs[i]] = i"
   ]
  },
  {
   "cell_type": "code",
   "execution_count": 46,
   "metadata": {
    "collapsed": false,
    "scrolled": true
   },
   "outputs": [],
   "source": [
    "pidx = {b: a for a, b in pub_idx.items()}    # for reverse lookup pub_domain = pidx[integer_key]"
   ]
  },
  {
   "cell_type": "markdown",
   "metadata": {},
   "source": [
    "### SVD"
   ]
  },
  {
   "cell_type": "markdown",
   "metadata": {},
   "source": [
    "#### create sparse matrix"
   ]
  },
  {
   "cell_type": "code",
   "execution_count": 167,
   "metadata": {
    "collapsed": false,
    "scrolled": true
   },
   "outputs": [],
   "source": [
    "def makeUIM(df):\n",
    "    dframe = df.sort_values(by='user_id', axis=0)\n",
    "    nUsers = len(user_idx)\n",
    "    nPubs = len(dframe.pub_domain.unique())\n",
    "    V = sp.lil_matrix((nUsers, nPubs))\n",
    "    def matput(imp):\n",
    "        try:\n",
    "            if imp.viewed:\n",
    "                V[user_idx[imp.user_id], pub_idx[imp.pub_domain]] = 1\n",
    "        except:\n",
    "            pass\n",
    "    _ = dframe[dframe.click == True].apply(matput, axis=1)\n",
    "    return V"
   ]
  },
  {
   "cell_type": "code",
   "execution_count": 168,
   "metadata": {
    "collapsed": false,
    "scrolled": true
   },
   "outputs": [
    {
     "data": {
      "text/plain": [
       "<10688x11474 sparse matrix of type '<type 'numpy.float64'>'\n",
       "\twith 3002 stored elements in LInked List format>"
      ]
     },
     "execution_count": 168,
     "metadata": {},
     "output_type": "execute_result"
    }
   ],
   "source": [
    "df5 = df5.sort_values(by='user_id', axis=0)\n",
    "V = makeUIM(df5)\n",
    "V"
   ]
  },
  {
   "cell_type": "code",
   "execution_count": 169,
   "metadata": {
    "collapsed": false,
    "scrolled": true
   },
   "outputs": [
    {
     "data": {
      "text/plain": [
       "<10688x4069 sparse matrix of type '<type 'numpy.float64'>'\n",
       "\twith 332 stored elements in LInked List format>"
      ]
     },
     "execution_count": 169,
     "metadata": {},
     "output_type": "execute_result"
    }
   ],
   "source": [
    "T = makeUIM(df6)\n",
    "T"
   ]
  },
  {
   "cell_type": "markdown",
   "metadata": {},
   "source": [
    "### compute SVD"
   ]
  },
  {
   "cell_type": "code",
   "execution_count": null,
   "metadata": {
    "collapsed": false,
    "scrolled": true
   },
   "outputs": [],
   "source": [
    "u, s, vt = svds(V, k = 400)"
   ]
  },
  {
   "cell_type": "code",
   "execution_count": null,
   "metadata": {
    "collapsed": false,
    "scrolled": true
   },
   "outputs": [
    {
     "data": {
      "image/png": "[encoded data removed]",
      "text/plain": [
       "<matplotlib.figure.Figure at 0x7f015c8f9790>"
      ]
     },
     "metadata": {},
     "output_type": "display_data"
    }
   ],
   "source": [
    "plt.plot(s[::-1])"
   ]
  },
  {
   "cell_type": "markdown",
   "metadata": {},
   "source": [
    "### KNN"
   ]
  },
  {
   "cell_type": "code",
   "execution_count": 196,
   "metadata": {
    "collapsed": false
   },
   "outputs": [
    {
     "name": "stdout",
     "output_type": "stream",
     "text": []
    },
    {
     "data": {
      "image/png": "[encoded data removed]",
      "text/plain": [
       "<matplotlib.figure.Figure at 0x7f01c761bb10>"
      ]
     },
     "metadata": {},
     "output_type": "display_data"
    }
   ],
   "source": [
    "from sklearn.neighbors import NearestNeighbors\n",
    "ts0 = df6.pub_domain.value_counts()\n",
    "tsums = pd.DataFrame.from_dict({\n",
    "        'pub_domain': ts0.index,\n",
    "        'nImps': ts0,\n",
    "        'clicks': df6.groupby('pub_domain')['click'].aggregate(sum)\n",
    "    })\n",
    "tsums.reset_index(inplace=True)\n",
    "tsums['CTR'] = tsums.clicks / np.float64(tsums.nImps)\n",
    "\n",
    "tt = TT.todense()\n",
    "tt = np.asarray(tt)\n",
    "plt.rcParams[\"figure.figsize\"] = [12.0, 4.0]\n",
    "\n",
    "kMin = 1\n",
    "kMax = 30\n",
    "weightFunctions = {\n",
    "    'f1': lambda x: [1 for i in range(len(x))],\n",
    "    'f2': lambda x: 1 / x,\n",
    "    'f3': lambda x: 1 / x ** 2\n",
    "}\n",
    "for idx, f in enumerate(weightFunctions):\n",
    "    print('weight function{}'.format(f))\n",
    "    rmseL = []\n",
    "    wf = weightFunctions[f]\n",
    "    for nNeighbors in range(kMin, kMax):\n",
    "        neigh = NearestNeighbors(nNeighbors)\n",
    "        neigh.fit(VT)    \n",
    "        act = pd.Series()\n",
    "        pred = pd.Series()\n",
    "        for i in range(TT.shape[0]):\n",
    "            d = neigh.kneighbors(tt[i,:], return_distance=True)\n",
    "            W = pd.Series([v for v in d[0][0]])\n",
    "            y = pd.Series(pubsums.iloc[d[1][0]].CTR)\n",
    "            a0 = tsums.iloc[i].CTR\n",
    "            try:\n",
    "                p0 = np.average(y[y.values > 0], weights = wf(W[y.values > 0]) )\n",
    "            except:\n",
    "                p0 = 0\n",
    "            act = act.append(pd.Series(a0))\n",
    "            pred = pred.append(pd.Series(p0))\n",
    "            exit\n",
    "        rmse = ((act.sub(pred).pow(2).mean()) ** .5 / (act.max() - act.min())) * 100 \n",
    "        rmseL.append(rmse)\n",
    "        print('{}. {}'.format(nNeighbors, rmse))\n",
    "    plt0 = plt.subplot(130+idx+1)\n",
    "    plt0.plot(range(kMin, kMax ,1), rmseL)\n",
    "    plt.tight_layout(pad=2.0)"
   ]
  },
  {
   "cell_type": "markdown",
   "metadata": {},
   "source": [
    "### Random Forest Regressor"
   ]
  },
  {
   "cell_type": "code",
   "execution_count": 329,
   "metadata": {
    "collapsed": false
   },
   "outputs": [],
   "source": [
    "from sklearn.ensemble import RandomForestRegressor\n",
    "from sklearn import cross_validation\n",
    "features = ['exposure', 'meanViewTime', 'nImps', 'reach', 'reachRate', \n",
    "                    'vImps', 'vRate', 'vReach', 'vReachRate']\n",
    "\n",
    "X_train, X_test, y_train, y_test =  cross_validation.train_test_split(\n",
    "    df[features], df.CTR, test_size=0.40, random_state=0)\n",
    "reg = RandomForestRegressor(n_estimators=100, n_jobs=-1)\n",
    "model = reg.fit(X_train, y_train)"
   ]
  },
  {
   "cell_type": "code",
   "execution_count": 335,
   "metadata": {
    "collapsed": false
   },
   "outputs": [
    {
     "name": "stdout",
     "output_type": "stream",
     "text": [
      "(array([ 0.72681533,  0.76944703,  0.73701492]), 0.74442575879965123)\n"
     ]
    }
   ],
   "source": [
    "scores = cross_validation.cross_val_score(model, X_train, y_train)\n",
    "print(scores, scores.mean())"
   ]
  },
  {
   "cell_type": "code",
   "execution_count": 330,
   "metadata": {
    "collapsed": false
   },
   "outputs": [
    {
     "data": {
      "text/plain": [
       "0.7735074515145226"
      ]
     },
     "execution_count": 330,
     "metadata": {},
     "output_type": "execute_result"
    }
   ],
   "source": [
    "model.score(X_test, y_test)"
   ]
  },
  {
   "cell_type": "code",
   "execution_count": 334,
   "metadata": {
    "collapsed": false,
    "scrolled": false
   },
   "outputs": [
    {
     "data": {
      "image/png": "[encoded data removed]",
      "text/plain": [
       "<matplotlib.figure.Figure at 0x7f4aac2cf450>"
      ]
     },
     "metadata": {},
     "output_type": "display_data"
    }
   ],
   "source": [
    "plt.rcParams[\"figure.figsize\"] = [12.0, 4.0]\n",
    "plt.bar(range(len(features)), model.feature_importances_, align='center')\n",
    "_ = plt.xticks(range(len(features)), features)"
   ]
  }
 ],
 "metadata": {
  "kernelspec": {
   "display_name": "Python 2",
   "language": "python",
   "name": "python2"
  },
  "language_info": {
   "codemirror_mode": {
    "name": "ipython",
    "version": 2
   },
   "file_extension": ".py",
   "mimetype": "text/x-python",
   "name": "python",
   "nbconvert_exporter": "python",
   "pygments_lexer": "ipython2",
   "version": "2.7.10"
  }
 },
 "nbformat": 4,
 "nbformat_minor": 0
}
